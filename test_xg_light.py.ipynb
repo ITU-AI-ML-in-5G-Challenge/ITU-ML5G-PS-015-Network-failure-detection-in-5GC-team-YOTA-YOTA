{
 "cells": [
  {
   "cell_type": "code",
   "execution_count": 39,
   "metadata": {},
   "outputs": [
    {
     "name": "stdout",
     "output_type": "stream",
     "text": [
      "(150,)\n"
     ]
    },
    {
     "name": "stderr",
     "output_type": "stream",
     "text": [
      "/usr/local/lib/python3.8/dist-packages/lightgbm/sklearn.py:736: UserWarning: 'verbose' argument is deprecated and will be removed in a future release of LightGBM. Pass 'log_evaluation()' callback via 'callbacks' argument instead.\n",
      "  _log_warning(\"'verbose' argument is deprecated and will be removed in a future release of LightGBM. \"\n",
      "/usr/local/lib/python3.8/dist-packages/lightgbm/engine.py:177: UserWarning: Found `num_boost_round` in params. Will use it instead of argument\n",
      "  _log_warning(f\"Found `{alias}` in params. Will use it instead of argument\")\n"
     ]
    },
    {
     "name": "stdout",
     "output_type": "stream",
     "text": [
      "[LightGBM] [Warning] num_iterations is set=10, num_boost_round=10 will be ignored. Current value: num_iterations=10\n",
      "0.9686684073107049\n"
     ]
    },
    {
     "name": "stderr",
     "output_type": "stream",
     "text": [
      "/usr/local/lib/python3.8/dist-packages/sklearn/utils/deprecation.py:87: FutureWarning: Function plot_confusion_matrix is deprecated; Function `plot_confusion_matrix` is deprecated in 1.0 and will be removed in 1.2. Use one of the class methods: ConfusionMatrixDisplay.from_predictions or ConfusionMatrixDisplay.from_estimator.\n",
      "  warnings.warn(msg, category=FutureWarning)\n"
     ]
    },
    {
     "data": {
      "image/png": "[encoded data removed]",
      "text/plain": [
       "<Figure size 432x288 with 2 Axes>"
      ]
     },
     "metadata": {
      "needs_background": "light"
     },
     "output_type": "display_data"
    }
   ],
   "source": [
    "import lightgbm as lgb\n",
    "\n",
    "import graphviz\n",
    "\n",
    "from sklearn import datasets\n",
    "from sklearn.model_selection import train_test_split\n",
    "from sklearn.metrics import confusion_matrix, plot_confusion_matrix\n",
    "\n",
    "import numpy as np\n",
    "from matplotlib import pyplot as plt\n",
    "\n",
    "from sklearn.tree import DecisionTreeClassifier, plot_tree\n",
    "from sklearn import metrics\n",
    "\n",
    "\"\"\"LightGBM を使った多値分類のサンプルコード\"\"\"\n",
    "\n",
    "def main():\n",
    "    #データセットを読み込む\n",
    "    iris = datasets.load_iris()\n",
    "    X, y = iris.data, iris.target\n",
    "    print(y.shape)\n",
    "    \n",
    "    #データの合成なし\n",
    "#     X_train = np.loadtxt('/data/ap_data/02_b_train_data.txt')\n",
    "#     y_train = np.loadtxt('/data/ap_data/02_b_train_label.txt', dtype='int64')\n",
    "    \n",
    "    X_test = np.loadtxt('/data/ap_data/02_b_test_data.txt')\n",
    "    y_test = np.loadtxt('/data/ap_data/02_b_test_label.txt', dtype='int64')\n",
    "\n",
    "#     #データの合成あり\n",
    "    X_train_a = np.loadtxt('/data/ap_data/01_a_train_data.txt')\n",
    "    y_train_a = np.loadtxt('/data/ap_data/01_a_train_label.txt', dtype='int64')\n",
    "    \n",
    "#     X_test_a = np.loadtxt('/data/ap_data/01_a_test_data.txt')\n",
    "#     y_test_a = np.loadtxt('/data/ap_data/01_a_test_label.txt', dtype='int64')\n",
    "    \n",
    "    X_train_c = np.loadtxt('/data/ap_data/01_c_train_data.txt')\n",
    "    y_train_c = np.loadtxt('/data/ap_data/01_c_train_label.txt', dtype='int64')\n",
    "    \n",
    "#     X_test_c = np.loadtxt('/data/ap_data/01_c_test_data.txt')\n",
    "#     y_test_c = np.loadtxt('/data/ap_data/01_c_test_label.txt', dtype='int64')\n",
    "    \n",
    "    X_train_b = np.loadtxt('/data/ap_data/02_b_train_data.txt')\n",
    "    y_train_b = np.loadtxt('/data/ap_data/02_b_train_label.txt', dtype='int64')\n",
    "    \n",
    "#     X_test_b = np.loadtxt('/data/ap_data/02_b_test_data.txt')\n",
    "#     y_test_b = np.loadtxt('/data/ap_data/02_b_test_label.txt', dtype='int64')\n",
    "    \n",
    "    X_train = np.concatenate([X_train_a,X_train_b, X_train_c])\n",
    "    y_train = np.concatenate([y_train_a, y_train_b, y_train_c])\n",
    "    \n",
    "#     X_test = np.concatenate([X_test_a, X_test_c])\n",
    "#     y_test = np.concatenate([y_test_a, y_test_c])\n",
    "    \n",
    "    # データセットを生成する\n",
    "    lgb_train = lgb.Dataset(X_train, y_train)\n",
    "    \n",
    "    \n",
    "\n",
    "\n",
    "    #モデルの学習\n",
    "    model2 = lgb.LGBMClassifier(objective='multiclass',n_estimators=6,num_boost_round=10)\n",
    "    model2.fit(X_train, y_train,verbose=50)\n",
    "#     model2.fit(X_train, y_train,eval_set=[(X_test_val , y_test_val)],verbose=50)\n",
    "    \n",
    "    #木構造の出力\n",
    "#     tree = lgb.plot_tree(model2, figsize=(100, 100))\n",
    "#     plt.show()\n",
    "    \n",
    "    # 特徴量の重要度をプロットする\n",
    "#     lgb.plot_importance(model2, figsize=(12, 6))\n",
    "#     plt.show()\n",
    "    \n",
    "    #各正解ラベルの正解率表示\n",
    "    plot_confusion_matrix(model2,X_test,y_test)\n",
    "    y_pred = model2.predict(X_test)\n",
    "\n",
    "    # 精度 (Accuracy) を計算する\n",
    "    accuracy = sum(y_test == y_pred) / len(y_test)\n",
    "    print(accuracy)\n",
    "    \n",
    "\n",
    "if __name__ == '__main__':\n",
    "    main()\n"
   ]
  },
  {
   "cell_type": "code",
   "execution_count": 6,
   "metadata": {},
   "outputs": [
    {
     "name": "stdout",
     "output_type": "stream",
     "text": [
      "Collecting matplotlib\n",
      "  Downloading matplotlib-3.4.3-cp38-cp38-manylinux1_x86_64.whl (10.3 MB)\n",
      "\u001b[K     |████████████████████████████████| 10.3 MB 3.1 MB/s eta 0:00:01\n",
      "\u001b[?25hCollecting kiwisolver>=1.0.1\n",
      "  Downloading kiwisolver-1.3.2-cp38-cp38-manylinux_2_5_x86_64.manylinux1_x86_64.whl (1.2 MB)\n",
      "\u001b[K     |████████████████████████████████| 1.2 MB 41.4 MB/s eta 0:00:01\n",
      "\u001b[?25hRequirement already satisfied: pyparsing>=2.2.1 in /usr/local/lib/python3.8/dist-packages (from matplotlib) (2.4.7)\n",
      "Requirement already satisfied: numpy>=1.16 in /usr/local/lib/python3.8/dist-packages (from matplotlib) (1.17.3)\n",
      "Requirement already satisfied: python-dateutil>=2.7 in /usr/local/lib/python3.8/dist-packages (from matplotlib) (2.8.1)\n",
      "Collecting pillow>=6.2.0\n",
      "  Downloading Pillow-8.4.0-cp38-cp38-manylinux_2_17_x86_64.manylinux2014_x86_64.whl (3.1 MB)\n",
      "\u001b[K     |████████████████████████████████| 3.1 MB 44.1 MB/s eta 0:00:01     |████                            | 378 kB 44.1 MB/s eta 0:00:01\n",
      "\u001b[?25hCollecting cycler>=0.10\n",
      "  Downloading cycler-0.11.0-py3-none-any.whl (6.4 kB)\n",
      "Requirement already satisfied: six>=1.5 in /usr/local/lib/python3.8/dist-packages (from python-dateutil>=2.7->matplotlib) (1.15.0)\n",
      "Installing collected packages: kiwisolver, pillow, cycler, matplotlib\n",
      "Successfully installed cycler-0.11.0 kiwisolver-1.3.2 matplotlib-3.4.3 pillow-8.4.0\n",
      "\u001b[33mWARNING: You are using pip version 20.2.4; however, version 21.3.1 is available.\n",
      "You should consider upgrading via the '/usr/bin/python -m pip install --upgrade pip' command.\u001b[0m\n"
     ]
    }
   ],
   "source": [
    "!pip install matplotlib"
   ]
  },
  {
   "cell_type": "code",
   "execution_count": null,
   "metadata": {},
   "outputs": [],
   "source": []
  }
 ],
 "metadata": {
  "kernelspec": {
   "display_name": "Python 3",
   "language": "python",
   "name": "python3"
  },
  "language_info": {
   "codemirror_mode": {
    "name": "ipython",
    "version": 3
   },
   "file_extension": ".py",
   "mimetype": "text/x-python",
   "name": "python",
   "nbconvert_exporter": "python",
   "pygments_lexer": "ipython3",
   "version": "3.8.5"
  }
 },
 "nbformat": 4,
 "nbformat_minor": 4
}
